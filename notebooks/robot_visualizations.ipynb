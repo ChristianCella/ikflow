{
 "cells": [
  {
   "cell_type": "markdown",
   "id": "d619eab0",
   "metadata": {},
   "source": [
    "# Overview\n",
    "This notebook illustrates the impact of the latent noise distribution on the resulting error statistics of generated samples"
   ]
  },
  {
   "cell_type": "code",
   "execution_count": 1,
   "id": "f124121e",
   "metadata": {},
   "outputs": [],
   "source": [
    "%load_ext autoreload\n",
    "%autoreload 2\n",
    "%load_ext wurlitzer\n",
    "#^^^ the wurlitzer extension is used to capture C/C++ output to be displayed in the notebook\n",
    "#^^^ this is very useful for debugging, but it doesn't work on windows\n",
    "import os\n",
    "os.chdir(\"../\")"
   ]
  },
  {
   "cell_type": "code",
   "execution_count": 13,
   "id": "c10b367e",
   "metadata": {},
   "outputs": [],
   "source": [
    "import random\n",
    "from typing import Tuple\n",
    "import pickle\n",
    "import time\n",
    "import yaml\n",
    "\n",
    "import config\n",
    "from src import robots\n",
    "from src.robots import get_robot\n",
    "from src.ik_solvers import IkflowSolver, GenerativeIKSolver\n",
    "from src.math_utils import rotation_matrix_from_quaternion, geodesic_distance\n",
    "from src.utils import get_ik_solver\n",
    "\n",
    "import numpy as np\n",
    "from tqdm import tqdm\n",
    "import matplotlib.pyplot as plt\n",
    "import torch\n",
    "\n",
    "from klampt import *\n",
    "from klampt.math import vectorops, so3, se3\n",
    "from klampt import vis\n",
    "from klampt.model.create import primitives\n",
    "from IPython.display import clear_output\n",
    "from klampt.vis.ipython import EditConfig,EditPoint,EditTransform"
   ]
  },
  {
   "cell_type": "code",
   "execution_count": 14,
   "id": "8f8f2d05",
   "metadata": {},
   "outputs": [],
   "source": [
    "with open(\"model_descriptions.yaml\", \"r\") as f:\n",
    "    MODEL_DESCRIPTIONS = yaml.safe_load(f)"
   ]
  },
  {
   "cell_type": "code",
   "execution_count": 17,
   "id": "4c11ab35",
   "metadata": {},
   "outputs": [],
   "source": [
    "pi = np.pi\n",
    "model_name=\"panda_tpm\"\n",
    "terrain_filepath = \"urdfs/klampt_resources/terrains/plane.off\""
   ]
  },
  {
   "cell_type": "code",
   "execution_count": 18,
   "id": "18599224",
   "metadata": {
    "scrolled": false
   },
   "outputs": [
    {
     "name": "stdout",
     "output_type": "stream",
     "text": [
      "WorldModel::LoadRobot: ./urdfs/panda_arm/panda.urdf\n",
      "URDFParser: Link size: 17\n",
      "URDFParser: Joint size: 12\n",
      "LoadAssimp: Loaded model ./urdfs/panda_arm/meshes/collision/link0.stl (595 verts, 200 tris)\n",
      "LoadAssimp: Loaded model ./urdfs/panda_arm/meshes/collision/link1.stl (887 verts, 300 tris)\n",
      "LoadAssimp: Loaded model ./urdfs/panda_arm/meshes/collision/link2.stl (889 verts, 300 tris)\n",
      "LoadAssimp: Loaded model ./urdfs/panda_arm/meshes/collision/link3.stl (900 verts, 300 tris)\n",
      "LoadAssimp: Loaded model ./urdfs/panda_arm/meshes/collision/link4.stl (900 verts, 300 tris)\n",
      "LoadAssimp: Loaded model ./urdfs/panda_arm/meshes/collision/link5.stl (900 verts, 300 tris)\n",
      "LoadAssimp: Loaded model ./urdfs/panda_arm/meshes/collision/link6.stl (600 verts, 200 tris)\n",
      "LoadAssimp: Loaded model ./urdfs/panda_arm/meshes/collision/link7.stl (600 verts, 200 tris)\n",
      "LoadAssimp: Loaded model ./urdfs/panda_arm/meshes/collision/hand.stl (600 verts, 200 tris)\n",
      "LoadAssimp: Loaded model ./urdfs/panda_arm/meshes/collision/finger.stl (96 verts, 32 tris)\n",
      "URDFParser: Done loading robot file ./urdfs/panda_arm/panda.urdf\n",
      "IkflowModelParameters()\n",
      "  coupling_layer:         'glow'\n",
      "  nb_nodes:               12\n",
      "  dim_latent_space:       9\n",
      "  coeff_fn_config:        3\n",
      "  coeff_fn_internal_size: 1024\n",
      "  permute_random_enabled: True\n",
      "  lambd_predict:          1.0\n",
      "  init_scale:             0.044735\n",
      "  rnvp_clamp:             2.5\n",
      "  y_noise_scale:          1e-07\n",
      "  zeros_noise_scale:      0.001\n",
      "  softflow_noise_scale:   0.01\n",
      "  softflow_enabled:       True\n",
      "  class_name:             'IkflowModelParameters'\n",
      "  robot_name:             'panda_arm'\n",
      "  model_weights_filepath: 'trained_models/panda_lucky-pond-7642.pkl'\n",
      "\n",
      "Created model of type 'ikflow' ( w/ 50934364 parameters)\n"
     ]
    }
   ],
   "source": [
    "# wandb_run_name = TPMS[TPM_NAME][\"wandb_run_name\"]\n",
    "\n",
    "def _get_ik_solver(model_name):\n",
    "    \n",
    "    model_weights_filepath = MODEL_DESCRIPTIONS[model_name][\"model_weights_filepath\"]\n",
    "    robot_name = MODEL_DESCRIPTIONS[model_name][\"robot_name\"]\n",
    "    hparams = MODEL_DESCRIPTIONS[model_name]\n",
    "    # Build GenerativeIKSolver and set weights\n",
    "    return get_ik_solver(model_weights_filepath, robot_name, hparams)[0]\n",
    "\n",
    "\n",
    "# robonaut2 -> ik not implemented\n",
    "# valkyrie -> urdf is all wacky\n",
    "# atlas_arm -> Only 6dof so don't see a proper distribution\n",
    "\n",
    "# # PANDA\n",
    "ik_solver = _get_ik_solver(model_name)\n",
    "urdf_filepath = \"models/panda_arm/panda_gripper_shifted.urdf\"\n",
    "R = so3.from_rpy([0, pi/2, 0])\n",
    "target_T_iktarget = (R, [-0.1, 0, 0])\n",
    "\n",
    "\n",
    "# ATLAS\n",
    "# robot_model, model_wrapper = get_model_wrapper(wandb_run_name)\n",
    "# urdf_filepath = robot_model.urdf_filepath\n",
    "# terrain_filepath = \"models/klampt_resources/terrains/plane_for_atlas.off\"\n",
    "# R = so3.from_rpy([0, 0, 0])\n",
    "# target_T_iktarget = (R, [0, -.125, -.01])\n",
    "\n",
    "\n",
    "# Robosimian\n",
    "# robot_model = get_robot(\"robosimian\")\n",
    "# model_wrapper, _ = get_model_wrapper(wandb_run_name)\n",
    "# urdf_filepath = model_wrapper.robot_model.urdf_filepath\n",
    "# R = so3.from_rpy([0, 0, 0])\n",
    "# target_T_iktarget = (R, [0, 0, 0])\n",
    "\n",
    "# PR2\n",
    "# robot_model = get_robot(\"pr2\")\n",
    "# model_wrapper, _ = get_model_wrapper(wandb_run_name)\n",
    "# urdf_filepath = model_wrapper.robot_model.urdf_filepath\n",
    "# R = so3.from_rpy([0, 0, 0])\n",
    "# target_T_iktarget = (R, [0, 0, 0])\n",
    "\n",
    "\n",
    "# PR2\n",
    "# robot_model = get_robot(\"baxter\")\n",
    "# model_wrapper = ModelWrapper_cINN_Softflow(cINN_SoftflowParameters(), robot_model)\n",
    "# urdf_filepath = model_wrapper.robot_model.urdf_filepath\n",
    "# R = so3.from_rpy([0, 0, 0])\n",
    "# target_T_iktarget = (R, [0, 0, 0])\n",
    "# terrain_filepath = \"urdfs/klampt_resources/terrains/plane_for_atlas.off\"\n",
    "\n",
    "# Generic\n",
    "klampt_robot_model = ik_solver.robot._klampt_robot"
   ]
  },
  {
   "cell_type": "markdown",
   "id": "c67d761a",
   "metadata": {},
   "source": [
    "# Visualizing\n",
    "\n",
    "Per ieee: \"One column width: 3.5 inches, 88.9 millimeters, or 21 picas \"\n",
    "\n",
    "Note: Don't change the color here. The standalone gui has a tool to change the appearance properties of objects in the world\n",
    "\n",
    "When positioning the camera, try to fill the frame almost entirely with the robot."
   ]
  },
  {
   "cell_type": "code",
   "execution_count": 19,
   "id": "e1d923f0",
   "metadata": {},
   "outputs": [],
   "source": [
    "SHOW_MUG = True"
   ]
  },
  {
   "cell_type": "code",
   "execution_count": 21,
   "id": "a8d966ef",
   "metadata": {
    "scrolled": false
   },
   "outputs": [
    {
     "name": "stdout",
     "output_type": "stream",
     "text": [
      "0WorldModel::LoadRobot: models/panda_arm/panda_gripper_shifted.urdf\n",
      "\n"
     ]
    },
    {
     "name": "stderr",
     "output_type": "stream",
     "text": [
      "URDFParser: RobotModel::LoadURDF: error parsing XML\n"
     ]
    },
    {
     "ename": "RuntimeError",
     "evalue": "Invalid robot index",
     "output_type": "error",
     "traceback": [
      "\u001b[0;31m---------------------------------------------------------------------------\u001b[0m",
      "\u001b[0;31mRuntimeError\u001b[0m                              Traceback (most recent call last)",
      "Cell \u001b[0;32mIn [21], line 9\u001b[0m\n\u001b[1;32m      7\u001b[0m     world\u001b[38;5;241m.\u001b[39mloadRigidObject(\u001b[38;5;124m\"\u001b[39m\u001b[38;5;124murdfs/klampt_resources/objects/mug_klampt.obj\u001b[39m\u001b[38;5;124m\"\u001b[39m)\n\u001b[1;32m      8\u001b[0m     mug \u001b[38;5;241m=\u001b[39m world\u001b[38;5;241m.\u001b[39mrigidObject(\u001b[38;5;241m0\u001b[39m)\n\u001b[0;32m----> 9\u001b[0m robot \u001b[38;5;241m=\u001b[39m \u001b[43mworld\u001b[49m\u001b[38;5;241;43m.\u001b[39;49m\u001b[43mrobot\u001b[49m\u001b[43m(\u001b[49m\u001b[38;5;241;43m0\u001b[39;49m\u001b[43m)\u001b[49m\n",
      "File \u001b[0;32m~/Projects/ikflow/venv/lib/python3.8/site-packages/klampt/robotsim.py:5750\u001b[0m, in \u001b[0;36mWorldModel.robot\u001b[0;34m(self, *args)\u001b[0m\n\u001b[1;32m   5734\u001b[0m \u001b[38;5;28;01mdef\u001b[39;00m \u001b[38;5;21mrobot\u001b[39m(\u001b[38;5;28mself\u001b[39m, \u001b[38;5;241m*\u001b[39margs) \u001b[38;5;241m-\u001b[39m\u001b[38;5;241m>\u001b[39m \u001b[38;5;124m\"\u001b[39m\u001b[38;5;124mRobotModel\u001b[39m\u001b[38;5;124m\"\u001b[39m:\n\u001b[1;32m   5735\u001b[0m     \u001b[38;5;124mr\u001b[39m\u001b[38;5;124;03m\"\"\"\u001b[39;00m\n\u001b[1;32m   5736\u001b[0m \u001b[38;5;124;03m    Returns a RobotModel in the world by index or name.  \u001b[39;00m\n\u001b[1;32m   5737\u001b[0m \n\u001b[0;32m   (...)\u001b[0m\n\u001b[1;32m   5748\u001b[0m \u001b[38;5;124;03m        :class:`~klampt.RobotModel`:\u001b[39;00m\n\u001b[1;32m   5749\u001b[0m \u001b[38;5;124;03m    \"\"\"\u001b[39;00m\n\u001b[0;32m-> 5750\u001b[0m     \u001b[38;5;28;01mreturn\u001b[39;00m \u001b[43m_robotsim\u001b[49m\u001b[38;5;241;43m.\u001b[39;49m\u001b[43mWorldModel_robot\u001b[49m\u001b[43m(\u001b[49m\u001b[38;5;28;43mself\u001b[39;49m\u001b[43m,\u001b[49m\u001b[43m \u001b[49m\u001b[38;5;241;43m*\u001b[39;49m\u001b[43margs\u001b[49m\u001b[43m)\u001b[49m\n",
      "\u001b[0;31mRuntimeError\u001b[0m: Invalid robot index"
     ]
    }
   ],
   "source": [
    "world = WorldModel()\n",
    "world.loadTerrain(terrain_filepath)\n",
    "world.loadRobot(urdf_filepath)\n",
    "# print(world.numRobots())\n",
    "\n",
    "if SHOW_MUG:\n",
    "    world.loadRigidObject(\"urdfs/klampt_resources/objects/mug_klampt.obj\")\n",
    "    mug = world.rigidObject(0)\n",
    "robot = world.robot(0)"
   ]
  },
  {
   "cell_type": "code",
   "execution_count": 9,
   "id": "41b13968",
   "metadata": {},
   "outputs": [
    {
     "name": "stdout",
     "output_type": "stream",
     "text": [
      "***  klampt.vis: using Qt5 as the visualization backend  ***\n",
      "QtBackend: initializing app as Klamp't visualization\n"
     ]
    },
    {
     "name": "stderr",
     "output_type": "stream",
     "text": [
      "WARNING: QApplication was not created in the main() thread.\n"
     ]
    },
    {
     "name": "stdout",
     "output_type": "stream",
     "text": [
      "vis: creating GL window\n",
      "######### QGLWidget setProgram ###############\n",
      "#########################################\n",
      "klampt.vis: Making window 0\n",
      "#########################################\n",
      "######### QGLWidget Initialize GL ###############\n",
      "TriMeshTopology: mesh has 10 triangles with duplicate neighbors!\n",
      "  Triangle range 0 to 3\n",
      "  May see strange results for some triangle mesh operations\n",
      "CreaseMesh: Invalid triangle 0 2 -1, input triangle 0 1 1\n",
      "CreaseMesh: Invalid triangle 11 7 -1, input triangle 3 2 2\n",
      "CreaseMesh: Invalid triangle 4 -1 8, input triangle 1 1 2\n",
      "CreaseMesh: Invalid triangle 5 10 -1, input triangle 1 2 2\n",
      "TriMeshTopology: mesh has 10 triangles with duplicate neighbors!\n",
      "  Triangle range 0 to 3\n",
      "  May see strange results for some triangle mesh operations\n"
     ]
    }
   ],
   "source": [
    "# Open viz in pop up window.\n",
    "vis.kill()\n",
    "vis.init([\"PyQt\"])\n",
    "vis.add(\"world\", world)\n",
    "vis.show()"
   ]
  },
  {
   "cell_type": "code",
   "execution_count": 10,
   "id": "518be1e9",
   "metadata": {},
   "outputs": [
    {
     "name": "stdout",
     "output_type": "stream",
     "text": [
      "CreaseMesh: Invalid triangle 0 2 -1, input triangle 0 1 1\n",
      "CreaseMesh: Invalid triangle 11 7 -1, input triangle 3 2 2\n",
      "CreaseMesh: Invalid triangle 4 -1 8, input triangle 1 1 2\n",
      "CreaseMesh: Invalid triangle 5 10 -1, input triangle 1 2 2\n"
     ]
    }
   ],
   "source": [
    "# Tf parameters\n",
    "R = so3.from_rpy([pi/2, 0, -0.3])\n",
    "target_T_mug = (R, [0.065, 0.005, -0.005])\n",
    "\n",
    "# Robot parameters\n",
    "alpha = 1\n",
    "robot_color = (1, 1, 1, alpha)\n",
    "\n",
    "def update_sols(_end_pose):\n",
    "    print(f\"_end_pose = {_end_pose.tolist()}\")\n",
    "    if SOL_MODE == \"IKFLOW\":\n",
    "        sols, _ = model_wrapper.make_samples(_end_pose, N_SOLUTIONS)    \n",
    "#         sols = np.load(\"/home/jeremysmorgan/Projects/nn_ik_softflow2/atlas_samples.npy\")\n",
    "    elif SOL_MODE == \"IK\":\n",
    "        sols = model_wrapper.robot_model.inverse_kinematics(_end_pose, N_SOLUTIONS, debug=False)\n",
    "    else:\n",
    "        raise ValueError(\"Unknown mode\")\n",
    "\n",
    "    qs = robot_model.x_to_qs(sols)\n",
    "    for i in range(N_SOLUTIONS):\n",
    "        q = qs[i]\n",
    "        if i == 0:\n",
    "            vis.setColor(vis.getItemName(robot), robot_color[0], robot_color[1], robot_color[2], a=robot_color[3])\n",
    "            robot.setConfig(q)\n",
    "            continue\n",
    "        vis.add(f\"robot_{i}\", q, color=robot_color)\n",
    "        \n",
    "def update_scene():\n",
    "    target = vis.getItemConfig(\"target\")\n",
    "    world_T_target = (target[:-3], target[-3:])   \n",
    "    print(\"world_T_target =\", world_T_target)\n",
    "    if SHOW_MUG:\n",
    "        world_T_mug = se3.mul(world_T_target, target_T_mug)\n",
    "        mug.setTransform(world_T_mug[0], world_T_mug[1])\n",
    "    world_T_iktarget = se3.mul(world_T_target, target_T_iktarget)\n",
    "    update_sols(np.array(world_T_iktarget[1] + so3.quaternion(world_T_iktarget[0])))\n",
    "    vis.update()\n",
    "    \n",
    "def current_state():\n",
    "    target = vis.getItemConfig(\"target\")\n",
    "    world_T_target = (target[:-3], target[-3:])   \n",
    "    print(\"world_T_target =\", world_T_target)\n",
    "    print(\"target_T_iktarget =\", target_T_iktarget)\n",
    "    vp = vis.getViewport()\n",
    "    print(\"vp = vis.getViewport()\")\n",
    "    print(\"vp.camera.rot =\", vp.camera.rot)\n",
    "    print(\"vp.camera.tgt =\", vp.camera.tgt)\n",
    "    print(\"vp.camera.dist =\", vp.camera.dist)\n",
    "    print(\"vp.clippingplanes = \", vp.clippingplanes)\n",
    "    print(\"vis.setViewport(vp)\")"
   ]
  },
  {
   "cell_type": "code",
   "execution_count": 11,
   "id": "332a0f66",
   "metadata": {},
   "outputs": [],
   "source": [
    "def print_mmd(_end_pose, k=30, n_solutions=100, n_terms = 1):\n",
    "    scores = []\n",
    "    scores_random = []\n",
    "    scores_ikik = []\n",
    "    \n",
    "    for i in range(k):\n",
    "        sols_ikflow, _ = model_wrapper.make_samples(_end_pose, n_solutions)  \n",
    "        \n",
    "        ee_pose_ikflow = model_wrapper.robot_model.forward_kinematics(sols_ikflow)\n",
    "        ave_l2err = np.mean(np.linalg.norm(ee_pose_ikflow[:, 0:3] - _end_pose[0:3], axis=1))\n",
    "        \n",
    "        sols_ik = model_wrapper.robot_model.inverse_kinematics(_end_pose, n_solutions, debug=False)\n",
    "        scores.append(mmd(sols_ikflow, sols_ik, n_terms=n_terms))\n",
    "        \n",
    "        sols_ik2 = model_wrapper.robot_model.inverse_kinematics(_end_pose, n_solutions, debug=False)\n",
    "        scores_ikik.append(mmd(sols_ik, sols_ik2, n_terms=n_terms))\n",
    "        \n",
    "        sols_random = model_wrapper.robot_model.sample(n_solutions)\n",
    "        scores_random.append(mmd(sols_random, sols_ik, n_terms=n_terms))\n",
    "        \n",
    "    print(f\"\\nprint_mmd(k={k}, n_terms={n_terms}, n_solutions={n_solutions})\")\n",
    "#     print(\"\\n mean ee.err (mm):\", round(100*ave_l2err, 4))\n",
    "    print(\"     (random)    mmd:\", np.mean(scores_random), \"\\tstd:\", np.std(scores_random))\n",
    "    print(\"     (ik-ik)     mmd:\", np.mean(scores_ikik), \"\\tstd:\", np.std(scores_ikik))\n",
    "    print(\"     (ikflow-ik) mmd:\", np.mean(scores), \"\\tstd:\", np.std(scores))\n",
    "\n",
    "def print_current_mmd(k=1, n_solutions=1000, n_terms = 1):\n",
    "    target = vis.getItemConfig(\"target\")\n",
    "    world_T_target = (target[:-3], target[-3:])   \n",
    "    world_T_iktarget = se3.mul(world_T_target, target_T_iktarget)\n",
    "    pose = np.array(world_T_iktarget[1] + so3.quaternion(world_T_iktarget[0]))\n",
    "    print_mmd(pose, k=k, n_solutions=n_solutions, n_terms = n_terms)"
   ]
  },
  {
   "cell_type": "markdown",
   "id": "f7ffa496",
   "metadata": {},
   "source": [
    "### Set IK target"
   ]
  },
  {
   "cell_type": "code",
   "execution_count": 12,
   "id": "9aecdbae",
   "metadata": {},
   "outputs": [],
   "source": [
    "# Update the target to a particular pose\n",
    "\n",
    "\n",
    "# -- Panda\n",
    "# pose = [ 0.50, 0, 0.65,  1, 0, 0, 0]\n",
    "# world_T_target = ([1.0, 0, 0, 0, 1.0, 0, 0, 0, 1.0], [0.35, 0, 0.65])\n",
    "# vis.add(\"target\", world_T_target, length=.25, width=1)\n",
    "\n",
    "# -- \n",
    "pose = [ 0.50, 0, 0.65,  1, 0, 0, 0]\n",
    "world_T_target = ([1.0, 0, 0, 0, 1.0, 0, 0, 0, 1.0], [0.35, 0, 0.65])\n",
    "vis.add(\"target\", world_T_target, length=.25, width=1)\n",
    "\n",
    "\n",
    "# -- Atlas\n",
    "# pose = [1.24028463e-01,  6.72724128e-01,  2.65556256e-01,  7.02780096e-01, 0.00000000e+00,  1.11022302e-16, -7.11407152e-01]\n",
    "# vis.add(\"target\", (so3.from_quaternion(pose[3:]), pose[0:3]), length=.25, width=1)\n",
    "\n",
    "# -- Atlas\n",
    "# pose = [ 0.4, 0.15, 1.25,  -0.518, -.316, 0.318, -.729]\n",
    "# vis.add(\"target\", (so3.from_quaternion(pose[3:]), pose[0:3]), length=.25, width=1)\n",
    "\n",
    "\n",
    "vis.hideLabel(\"target\")\n",
    "vis.update()"
   ]
  },
  {
   "cell_type": "code",
   "execution_count": 13,
   "id": "4029abec",
   "metadata": {},
   "outputs": [],
   "source": [
    "vis.edit(\"target\", doedit=True)\n",
    "vis.setAttribute(\"target\", \"length\", .2)\n",
    "vis.hideLabel(\"target\")"
   ]
  },
  {
   "cell_type": "code",
   "execution_count": null,
   "id": "9ce30708",
   "metadata": {},
   "outputs": [],
   "source": [
    "vis.edit(\"target\", doedit=False)\n",
    "vis.setAttribute(\"target\", \"length\", .2)\n",
    "vis.hideLabel(\"target\")"
   ]
  },
  {
   "cell_type": "markdown",
   "id": "a5be1fae",
   "metadata": {},
   "source": [
    "### Update scene"
   ]
  },
  {
   "cell_type": "code",
   "execution_count": 63,
   "id": "6aeba360",
   "metadata": {
    "scrolled": false
   },
   "outputs": [
    {
     "name": "stdout",
     "output_type": "stream",
     "text": [
      "world_T_target = ([-0.2137132837313067, 0.9370873236417957, -0.2760325709524874, -0.029779749730973304, 0.27618005340430996, 0.9606444423445929, 0.9764424196350465, 0.21352265915225443, -0.03111712014000312], [1.0190904590701242, 0.6326763495116817, 0.24953221839773818])\n",
      "_end_pose = [1.0190904590701242, 0.6326763495116817, 0.24953221839773818, 0.5077769317163291, 0.3678395652333999, 0.6166462635246446, 0.47602943978996576]\n"
     ]
    }
   ],
   "source": [
    "SOL_MODE = \"IK\"\n",
    "# SOL_MODE = \"IKFLOW\"\n",
    "N_SOLUTIONS = 10\n",
    "\n",
    "update_scene()"
   ]
  },
  {
   "cell_type": "markdown",
   "id": "e2bce88e",
   "metadata": {},
   "source": [
    "### Printout the current mmd\n"
   ]
  },
  {
   "cell_type": "code",
   "execution_count": null,
   "id": "40bddf43",
   "metadata": {},
   "outputs": [],
   "source": [
    "print_current_mmd()"
   ]
  },
  {
   "cell_type": "markdown",
   "id": "53acc430",
   "metadata": {},
   "source": [
    "### Printout the current vis. state"
   ]
  },
  {
   "cell_type": "code",
   "execution_count": null,
   "id": "ab76a43b",
   "metadata": {},
   "outputs": [],
   "source": [
    "current_state()"
   ]
  },
  {
   "cell_type": "markdown",
   "id": "eccd5772",
   "metadata": {},
   "source": [
    "## Replicate visualizations used in the papaer:\n",
    "\n",
    "\n",
    "### Panda cover photo\n",
    "\n",
    "``` python\n",
    "world_T_target = ([1.0, 0.0, 0.0, 0.0, 1.0, 0.0, 0.0, 0.0, 1.0], [0.44061820812564334, 0.0, 0.6702390809215747])\n",
    "target_T_iktarget = ([6.123233995736766e-17, 0.0, -1.0, 0.0, 1.0, 0.0, 1.0, 0.0, 6.123233995736766e-17], [-0.1, 0, 0])\n",
    "vp = vis.getViewport()\n",
    "vp.camera.rot = [0.0, -0.3500000000000001, 2.3699999999999948]\n",
    "vp.camera.tgt = [0.1510013083207166, 0.015973609866733036, 0.4659988966788869]\n",
    "vp.camera.dist = 1.807165271473198\n",
    "vp.clippingplanes =  (0.2, 20)\n",
    "vis.setViewport(vp)\n",
    "```\n",
    "\n",
    "### IK vs IKFlow comparison\n",
    "\n",
    "\n",
    "##### PandaArm:\n",
    "\n",
    "``` python\n",
    "world_T_target = ([-0.010553079379030494, -2.7755575615628914e-16, 0.9999443147073834, 0.9929081491431708, -0.11842128885441006, 0.010478822030265622, 0.1184146945302888, 0.9929634426030292, 0.0012497092614485172], [-0.020075173440280116, 0.48281258570362073, 0.723629099140075])\n",
    "target_T_iktarget = ([6.123233995736766e-17, 0.0, -1.0, 0.0, 1.0, 0.0, 1.0, 0.0, 6.123233995736766e-17], [-0.1, 0, 0])\n",
    "vp = vis.getViewport()\n",
    "vp.camera.rot = [0.0, -0.7100000000000004, 4.349999999999992]\n",
    "vp.camera.tgt = [0.04346345314554039, 0.24269145260400948, 0.4130087064101574]\n",
    "vp.camera.dist = 2.4394179584435967\n",
    "vp.clippingplanes =  (0.2, 20)\n",
    "vis.setViewport(vp)\n",
    "```\n",
    "\n",
    "print_mmd(k=1, n_terms=1, n_solutions=1000)\n",
    "     (random)    mmd: 0.04902878776192665 \tstd: 0.0\n",
    "     (ik-ik)     mmd: 0.0011280993930995464 \tstd: 0.0\n",
    "     (ikflow-ik) mmd: 0.012286311946809292 \tstd: 0.0\n",
    "    \n",
    "##### Atlas:\n",
    "\n",
    "``` python\n",
    "world_T_target = ([-0.012200271833502363, -0.9999255745781075, -1.5604852833744659e-16, 0.9999255745781075, -0.012200271833502363, -1.5796411934860783e-16, 1.5604852833744659e-16, -1.5796411934860783e-16, 1.0], [0.24901916, 0.671199094, 0.275556256])\n",
    "pose = np.array([ 2.49019160e-01,  6.71199094e-01,  2.75556256e-01,  7.02780096e-01,\n",
    "        0.00000000e+00,  1.11022302e-16, -7.11407152e-01])\n",
    "vp = vis.getViewport()\n",
    "vp.camera.rot = [0.0, -0.23, 2.2600000000000033]\n",
    "vp.camera.tgt = [0.012435107852541857, -0.050844730904928005, 0.06010287306824789]\n",
    "vp.camera.dist = 5.429024508215758\n",
    "vp.clippingplanes =  (0.2, 20)\n",
    "vis.setViewport(vp)\n",
    "```\n",
    "\n",
    "print_mmd(k=1, n_terms=1, n_solutions=1000)\n",
    "     (random)    mmd: 0.09190898388624191 \tstd: 0.0\n",
    "     (ik-ik)     mmd: 0.0003174212761223316 \tstd: 0.0\n",
    "     (ikflow-ik) mmd: 0.008037609048187733 \tstd: 0.0"
   ]
  }
 ],
 "metadata": {
  "kernelspec": {
   "display_name": "Python 3 (ipykernel)",
   "language": "python",
   "name": "python3"
  },
  "language_info": {
   "codemirror_mode": {
    "name": "ipython",
    "version": 3
   },
   "file_extension": ".py",
   "mimetype": "text/x-python",
   "name": "python",
   "nbconvert_exporter": "python",
   "pygments_lexer": "ipython3",
   "version": "3.8.13"
  }
 },
 "nbformat": 4,
 "nbformat_minor": 5
}
