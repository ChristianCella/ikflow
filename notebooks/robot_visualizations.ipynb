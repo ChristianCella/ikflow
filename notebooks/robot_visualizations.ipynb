{
 "cells": [
  {
   "cell_type": "markdown",
   "id": "d619eab0",
   "metadata": {},
   "source": [
    "# Overview\n",
    "This notebook illustrates the impact of the latent noise distribution on the resulting error statistics of generated samples"
   ]
  },
  {
   "cell_type": "code",
   "execution_count": null,
   "id": "f124121e",
   "metadata": {},
   "outputs": [],
   "source": [
    "%load_ext autoreload\n",
    "%autoreload 2\n",
    "%load_ext wurlitzer\n",
    "#^^^ the wurlitzer extension is used to capture C/C++ output to be displayed in the notebook\n",
    "#^^^ this is very useful for debugging, but it doesn't work on windows\n",
    "import os\n",
    "os.chdir(\"../\")"
   ]
  },
  {
   "cell_type": "code",
   "execution_count": null,
   "id": "c10b367e",
   "metadata": {},
   "outputs": [],
   "source": [
    "import random\n",
    "from typing import Tuple\n",
    "import pickle\n",
    "import time\n",
    "import yaml\n",
    "\n",
    "from ikflow import config\n",
    "from ikflow import robots\n",
    "from jrl.robots import get_robot\n",
    "from ikflow.ikflow_solver import IKFlowSolver, IKFlowSolver\n",
    "from jrl.conversions import quaternion_to_rotation_matrix, geodesic_distance_between_rotation_matrices\n",
    "\n",
    "from ikflow.model_loading import get_ik_solver\n",
    "\n",
    "import numpy as np\n",
    "from tqdm import tqdm\n",
    "import matplotlib.pyplot as plt\n",
    "from matplotlib import colors\n",
    "import torch\n",
    "\n",
    "from klampt import *\n",
    "from klampt.math import vectorops, so3, se3\n",
    "from klampt import vis\n",
    "from klampt.model.create import primitives\n",
    "from IPython.display import clear_output\n",
    "from klampt.vis.ipython import EditConfig,EditPoint,EditTransform"
   ]
  },
  {
   "cell_type": "code",
   "execution_count": null,
   "id": "8f8f2d05",
   "metadata": {},
   "outputs": [],
   "source": [
    "with open(\"model_descriptions.yaml\", \"r\") as f:\n",
    "    MODEL_DESCRIPTIONS = yaml.safe_load(f)"
   ]
  },
  {
   "cell_type": "code",
   "execution_count": null,
   "id": "4c11ab35",
   "metadata": {},
   "outputs": [],
   "source": [
    "pi = np.pi\n",
    "model_name=\"panda_tpm\"\n",
    "terrain_filepath = \"urdfs/klampt_resources/terrains/plane.off\""
   ]
  },
  {
   "cell_type": "code",
   "execution_count": null,
   "id": "18599224",
   "metadata": {},
   "outputs": [],
   "source": [
    "def _get_ik_solver(model_name):\n",
    "    model_weights_filepath = MODEL_DESCRIPTIONS[model_name][\"model_weights_filepath\"]\n",
    "    robot_name = MODEL_DESCRIPTIONS[model_name][\"robot_name\"]\n",
    "    hparams = MODEL_DESCRIPTIONS[model_name]\n",
    "    return get_ik_solver(model_weights_filepath, robot_name, hparams)[0]\n",
    "\n",
    "# PANDA\n",
    "ik_solver = _get_ik_solver(model_name)\n",
    "urdf_filepath = ik_solver.robot.urdf_filepath\n",
    "R = so3.from_rpy([0, pi/2, 0])\n",
    "target_T_iktarget = (R, [-0.1, 0, 0])"
   ]
  },
  {
   "cell_type": "markdown",
   "id": "c67d761a",
   "metadata": {},
   "source": [
    "# Visualizing\n",
    "\n",
    "Per ieee: \"One column width: 3.5 inches, 88.9 millimeters, or 21 picas \"\n",
    "\n",
    "Note: Don't change the color here. The standalone gui has a tool to change the appearance properties of objects in the world\n",
    "\n",
    "When positioning the camera, try to fill the frame almost entirely with the robot."
   ]
  },
  {
   "cell_type": "code",
   "execution_count": null,
   "id": "e1d923f0",
   "metadata": {},
   "outputs": [],
   "source": [
    "SHOW_MUG = True"
   ]
  },
  {
   "cell_type": "code",
   "execution_count": null,
   "id": "a8d966ef",
   "metadata": {},
   "outputs": [],
   "source": [
    "world = WorldModel()\n",
    "world.loadTerrain(terrain_filepath)\n",
    "world.loadRobot(urdf_filepath)\n",
    "\n",
    "if SHOW_MUG:\n",
    "    world.loadRigidObject(\"urdfs/klampt_resources/objects/mug_klampt.obj\")\n",
    "    mug = world.rigidObject(0)\n",
    "\n",
    "robot=world.robot(0)"
   ]
  },
  {
   "cell_type": "code",
   "execution_count": null,
   "id": "41b13968",
   "metadata": {},
   "outputs": [],
   "source": [
    "# Open viz in pop up window.\n",
    "vis.kill()\n",
    "vis.init([\"PyQt\"])\n",
    "vis.add(\"world\", world)\n",
    "vis.show()"
   ]
  },
  {
   "cell_type": "code",
   "execution_count": null,
   "id": "518be1e9",
   "metadata": {},
   "outputs": [],
   "source": [
    "# Tf parameters\n",
    "R = so3.from_rpy([pi/2, 0, -0.3])\n",
    "target_T_mug = (R, [0.065, 0.005, -0.005])\n",
    "\n",
    "# Robot parameters\n",
    "alpha = 1\n",
    "robot_color = (1, 1, 1, alpha)\n",
    "\n",
    "def get_color(i, n):\n",
    "    return robot_color\n",
    "\n",
    "def update_sols(_end_pose):\n",
    "    print(f\"_end_pose = {_end_pose.tolist()}\")\n",
    "    if SOL_MODE == \"IKFLOW\":\n",
    "        sols = ik_solver.solve(_end_pose, N_SOLUTIONS)\n",
    "    elif SOL_MODE == \"IK\":\n",
    "        sols = ik_solver.robot.inverse_kinematics(_end_pose, N_SOLUTIONS, debug=False)\n",
    "    else:\n",
    "        raise ValueError(\"Unknown mode\")\n",
    "\n",
    "    qs = ik_solver.robot.x_to_qs(sols)\n",
    "    for i in range(N_SOLUTIONS):\n",
    "        q = qs[i]\n",
    "        rcolor = get_color(i, N_SOLUTIONS)\n",
    "        if i == 0:\n",
    "            vis.setColor(\n",
    "                vis.getItemName(robot), \n",
    "                rcolor[0], \n",
    "                rcolor[1], \n",
    "                rcolor[2], \n",
    "                a=rcolor[3])\n",
    "            robot.setConfig(q)\n",
    "            continue\n",
    "        vis.add(f\"robot_{i}\", q, color=rcolor)\n",
    "        \n",
    "def update_scene():\n",
    "    target = vis.getItemConfig(\"target\")\n",
    "    world_T_target = (target[:-3], target[-3:])   \n",
    "    print(\"world_T_target =\", world_T_target)\n",
    "    if SHOW_MUG:\n",
    "        world_T_mug = se3.mul(world_T_target, target_T_mug)\n",
    "        mug.setTransform(world_T_mug[0], world_T_mug[1])\n",
    "    world_T_iktarget = se3.mul(world_T_target, target_T_iktarget)\n",
    "    update_sols(np.array(world_T_iktarget[1] + so3.quaternion(world_T_iktarget[0])))\n",
    "    vis.update()\n",
    "    \n",
    "def current_state():\n",
    "    target = vis.getItemConfig(\"target\")\n",
    "    world_T_target = (target[:-3], target[-3:])   \n",
    "    print(\"world_T_target =\", world_T_target)\n",
    "    print(\"target_T_iktarget =\", target_T_iktarget)\n",
    "    vp = vis.getViewport()\n",
    "    print(\"vp = vis.getViewport()\")\n",
    "    print(\"vp.camera.rot =\", vp.camera.rot)\n",
    "    print(\"vp.camera.tgt =\", vp.camera.tgt)\n",
    "    print(\"vp.camera.dist =\", vp.camera.dist)\n",
    "    print(\"vp.clippingplanes = \", vp.clippingplanes)\n",
    "    print(\"vis.setViewport(vp)\")"
   ]
  },
  {
   "cell_type": "markdown",
   "id": "f7ffa496",
   "metadata": {},
   "source": [
    "### Set IK target"
   ]
  },
  {
   "cell_type": "code",
   "execution_count": null,
   "id": "9aecdbae",
   "metadata": {},
   "outputs": [],
   "source": [
    "# Update the target to a particular pose\n",
    "# -- \n",
    "pose = [ 0.50, 0, 0.65,  1, 0, 0, 0]\n",
    "world_T_target = ([1.0, 0, 0, 0, 1.0, 0, 0, 0, 1.0], [0.35, 0, 0.65])\n",
    "vis.add(\"target\", world_T_target, length=.25, width=1)\n",
    "\n",
    "vis.hideLabel(\"target\")\n",
    "vis.update()"
   ]
  },
  {
   "cell_type": "markdown",
   "id": "a5be1fae",
   "metadata": {},
   "source": [
    "### Update scene"
   ]
  },
  {
   "cell_type": "code",
   "execution_count": null,
   "id": "6aeba360",
   "metadata": {},
   "outputs": [],
   "source": [
    "# SOL_MODE = \"IK\"\n",
    "SOL_MODE = \"IKFLOW\"\n",
    "N_SOLUTIONS = 11\n",
    "\n",
    "update_scene()"
   ]
  },
  {
   "cell_type": "markdown",
   "id": "c527c889",
   "metadata": {},
   "source": [
    "### Show / Hide IK target"
   ]
  },
  {
   "cell_type": "code",
   "execution_count": null,
   "id": "4029abec",
   "metadata": {},
   "outputs": [],
   "source": [
    "# SHOW\n",
    "vis.edit(\"target\", doedit=True)\n",
    "vis.setAttribute(\"target\", \"length\", .2)\n",
    "vis.hideLabel(\"target\")"
   ]
  },
  {
   "cell_type": "code",
   "execution_count": null,
   "id": "9ce30708",
   "metadata": {},
   "outputs": [],
   "source": [
    "# HIDE\n",
    "vis.edit(\"target\", doedit=False)\n",
    "vis.setAttribute(\"target\", \"length\", .2)\n",
    "vis.hideLabel(\"target\")"
   ]
  },
  {
   "cell_type": "markdown",
   "id": "53acc430",
   "metadata": {},
   "source": [
    "### Printout the current vis. state"
   ]
  },
  {
   "cell_type": "code",
   "execution_count": null,
   "id": "ab76a43b",
   "metadata": {},
   "outputs": [],
   "source": [
    "current_state()"
   ]
  }
 ],
 "metadata": {
  "kernelspec": {
   "display_name": "venv",
   "language": "python",
   "name": "python3"
  },
  "language_info": {
   "codemirror_mode": {
    "name": "ipython",
    "version": 3
   },
   "file_extension": ".py",
   "mimetype": "text/x-python",
   "name": "python",
   "nbconvert_exporter": "python",
   "pygments_lexer": "ipython3",
   "version": "3.8.10 (default, Nov 14 2022, 12:59:47) \n[GCC 9.4.0]"
  },
  "vscode": {
   "interpreter": {
    "hash": "c106ee123d7af531b7acc4f77c56e24741db8737a45cbfd984346f16de511ef0"
   }
  }
 },
 "nbformat": 4,
 "nbformat_minor": 5
}
